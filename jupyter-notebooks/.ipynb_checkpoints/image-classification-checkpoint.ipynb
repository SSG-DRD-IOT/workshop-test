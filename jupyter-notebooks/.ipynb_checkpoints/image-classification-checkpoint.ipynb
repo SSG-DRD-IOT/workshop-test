{
 "cells": [
  {
   "cell_type": "markdown",
   "metadata": {},
   "source": [
    "# Image Classification with the OpenVINO* Inference Engine"
   ]
  },
  {
   "cell_type": "markdown",
   "metadata": {},
   "source": [
    "## Setup Lab Environment"
   ]
  },
  {
   "cell_type": "code",
   "execution_count": 1,
   "metadata": {},
   "outputs": [
    {
     "name": "stdout",
     "output_type": "stream",
     "text": [
      "\u001b[34;1mInitializing operating system environment variables\u001b[0m\n",
      "env: PASSWORD=upsquared\n",
      "\u001b[34;1m\n",
      "Storing OpenVINO directories in environment variables\u001b[0m\n",
      "env: OPENVINO_INSTALLATION_PATH=/home/upsquared/intel/computer_vision_sdk\n",
      "env: OPENVINO_EXAMPLES=/home/upsquared/intel/computer_vision_sdk/deployment_tools/inference_engine/samples\n",
      "env: OPENIVNO_MODEL_OPTIMIZER=/home/upsquared/intel/computer_vision_sdk/deployment_tools/model_optimizer\n",
      "env: OPENVINO_MODEL_DOWNLOADER=/home/upsquared/intel/computer_vision_sdk/deployment_tools/model_downloader\n",
      "env: OPENVINO_EXAMPLES_BIN=/home/upsquared/intel/computer_vision_sdk/deployment_tools/inference_engine/samples/build/intel64/Release\n",
      "\u001b[34;1m\n",
      "Storing workshop lab directories in environment variables\u001b[0m\n",
      "env: WORKSHOP=/home/upsquared/labs/smart-video-workshop\n",
      "env: MODEL_OUTPUT_DIR=/home/upsquared/labs/smart-video-workshop/resources/model_output\n",
      "env: INPUT_MEDIA_DIR=/home/upsquared/labs/smart-video-workshop/resources/media\n",
      "\u001b[34;1m\n",
      "Initializing environment variables specific to this lab\u001b[0m\n",
      "env: MODEL=/home/upsquared/intel/computer_vision_sdk/deployment_tools/model_downloader/classification/squeezenet/1.1/caffe/squeezenet1.1.caffemodel\n",
      "env: LAB=/home/upsquared/labs/smart-video-workshop/hardware-heterogeneity\n"
     ]
    }
   ],
   "source": [
    "# Environment variables that specific to this lab\n",
    "%run 'environment/setup-image-classification.ipynb'"
   ]
  },
  {
   "cell_type": "markdown",
   "metadata": {},
   "source": [
    "## Prepare the Neural Network Model\n",
    "\n",
    "To prepare to run a model on the OpenVINO inference engine the model must be converted to Intermediate Representation (IR), the format used by the OpenVINO Inference Engine."
   ]
  },
  {
   "cell_type": "code",
   "execution_count": 2,
   "metadata": {},
   "outputs": [
    {
     "name": "stdout",
     "output_type": "stream",
     "text": [
      "Model Optimizer arguments\n",
      "\tBatch: \t1\n",
      "\tPrecision of IR: \tFP32\n",
      "\tEnable fusing: \tTrue\n",
      "\tEnable gfusing: \tTrue\n",
      "\tNames of input layers: \tinherited from the model\n",
      "\tPath to the Input Model: \t/home/upsquared/intel/computer_vision_sdk/deployment_tools/model_downloader/classification/squeezenet/1.1/caffe/squeezenet1.1.caffemodel\n",
      "\tInput shapes: \tinherited from the model\n",
      "\tLog level: \tERROR\n",
      "\tMean values: \t()\n",
      "\tIR output name: \tinherited from the model\n",
      "\tNames of output layers: \tinherited from the model\n",
      "\tPath for generated IR: \t/home/upsquared/labs/smart-video-workshop/resources/model_output\n",
      "\tReverse input channels: \tFalse\n",
      "\tScale factor: \tNone\n",
      "\tScale values: \t()\n",
      "\tVersion: \t0.3.75.d6bae621\n",
      "\tInput proto file: \tdeduced from the input model\n",
      "\tPath to CustomLayersMapping.xml: \t/home/upsquared/intel/computer_vision_sdk/deployment_tools/model_optimizer/extensions/front/caffe/CustomLayersMapping.xml\n",
      "\tPath to a mean file: \t\n",
      "\tOffsets for a mean file: \tNone\n",
      "\n",
      "[ SUCCESS ] Generated IR model.\n",
      "[ SUCCESS ] XML file: /home/upsquared/labs/smart-video-workshop/resources/model_output/squeezenet1.1.xml\n",
      "[ SUCCESS ] BIN file: /home/upsquared/labs/smart-video-workshop/resources/model_output/squeezenet1.1.bin\n"
     ]
    }
   ],
   "source": [
    "! python3 $OPENIVNO_MODEL_OPTIMIZER/mo_caffe.py \\\n",
    "    --input_model $MODEL \\\n",
    "    -o $MODEL_OUTPUT_DIR"
   ]
  },
  {
   "cell_type": "code",
   "execution_count": null,
   "metadata": {},
   "outputs": [],
   "source": [
    "from IPython.display import Image\n",
    "Image(filename='test.png') "
   ]
  },
  {
   "cell_type": "code",
   "execution_count": 3,
   "metadata": {},
   "outputs": [
    {
     "name": "stdout",
     "output_type": "stream",
     "text": [
      "[ INFO ] InferenceEngine: \n",
      "\tAPI version ............ 1.0\n",
      "\tBuild .................. 10478\n",
      "[ INFO ] Parsing input parameters\n",
      "[ INFO ] Loading plugin\n",
      "\n",
      "\tAPI version ............ 1.0\n",
      "\tBuild .................. lnx_20180314\n",
      "\tDescription ....... MKLDNNPlugin\n",
      "[ INFO ] Loading network files:\n",
      "\t/home/upsquared/labs/smart-video-workshop/hardware-heterogeneity/object-detection/squeezenet1.1.xml\n",
      "\t/home/upsquared/labs/smart-video-workshop/hardware-heterogeneity/object-detection/squeezenet1.1.bin\n",
      "[ INFO ] Preparing input blobs\n",
      "[ WARNING ] Image is resized from (787, 259) to (227, 227)\n",
      "[ INFO ] Batch size is 1\n",
      "[ INFO ] Preparing output blobs\n",
      "[ INFO ] Loading model to the plugin\n",
      "[ INFO ] Starting inference (1 iterations)\n",
      "[ INFO ] Average running time of one iteration: 81.686 ms\n",
      "[ INFO ] Processing output blobs\n",
      "\n",
      "Top 10 results:\n",
      "\n",
      "Image /home/upsquared/intel/computer_vision_sdk_2018.1.265/deployment_tools/demo/car.png\n",
      "\n",
      "817 0.8363336 label #817\n",
      "511 0.0946490 label #511\n",
      "479 0.0419133 label #479\n",
      "751 0.0091072 label #751\n",
      "436 0.0068162 label #436\n",
      "656 0.0037564 label #656\n",
      "586 0.0025741 label #586\n",
      "717 0.0016069 label #717\n",
      "864 0.0012027 label #864\n",
      "581 0.0005882 label #581\n",
      "\n",
      "[ INFO ] Execution successful\n"
     ]
    }
   ],
   "source": [
    "! $OPENVINO_EXAMPLES_BIN/classification_sample -i /home/upsquared/intel/computer_vision_sdk_2018.1.265/deployment_tools/demo/car.png -m /home/upsquared/labs/smart-video-workshop/hardware-heterogeneity/object-detection/squeezenet1.1.xml"
   ]
  },
  {
   "cell_type": "code",
   "execution_count": null,
   "metadata": {},
   "outputs": [],
   "source": [
    "! echo $PASSWORD | sudo -S -H /opt/intel/computer_vision_sdk_2018.1.265/deployment_tools/inference_engine/samples/classification_sample -i /home/upsquared/Downloads/cat.jpg -m $SV/object-detection/mobilenet-ssd/FP32/mobilenet-ssd.xml -nt 5"
   ]
  },
  {
   "cell_type": "code",
   "execution_count": null,
   "metadata": {},
   "outputs": [],
   "source": []
  }
 ],
 "metadata": {
  "kernelspec": {
   "display_name": "Python 3",
   "language": "python",
   "name": "python3"
  },
  "language_info": {
   "codemirror_mode": {
    "name": "ipython",
    "version": 3
   },
   "file_extension": ".py",
   "mimetype": "text/x-python",
   "name": "python",
   "nbconvert_exporter": "python",
   "pygments_lexer": "ipython3",
   "version": "3.5.2"
  }
 },
 "nbformat": 4,
 "nbformat_minor": 2
}
