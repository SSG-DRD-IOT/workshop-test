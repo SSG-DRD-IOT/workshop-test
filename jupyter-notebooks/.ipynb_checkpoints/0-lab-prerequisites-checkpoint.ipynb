{
 "cells": [
  {
   "cell_type": "markdown",
   "metadata": {},
   "source": [
    "# Optimized Inference at the Edge with Intel® Tools and Technologies \n",
    "This workshop will walk you through a computer vision workflow using the latest Intel® technologies and comprehensive toolkits including support for deep learning algorithms that help accelerate smart video applications. You will learn how to optimize and improve performance with and without external accelerators and utilize tools to help you identify the best hardware configuration for your needs. This workshop will also outline the various frameworks and topologies supported by Intel® accelerator tools. \n",
    "\n",
    "## How to Get Started\n",
    "   \n",
    "> For the in-class training, the hardware and software setup part has already been done on the workshop hardware. In-class training participants should directly move to Workshop Agenda section. \n",
    "\n",
    "In order to use this workshop content, you will need to setup your hardware and install OpenVINO™ toolkit for infering your computer vision application.\n",
    "\n",
    "## Setup the Jupyter Notebook Lab Environment"
   ]
  },
  {
   "cell_type": "code",
   "execution_count": 12,
   "metadata": {},
   "outputs": [
    {
     "name": "stdout",
     "output_type": "stream",
     "text": [
      "env: PASSWORD=upsquared\n",
      "env: LAB_DIR=/home/upsquared/labs/smart-video-workshop\n",
      "env: INF_EXAMPLES=/opt/intel/computer_vision_sdk/deployment_tools/inference_engine/samples/\n",
      "env: SUDO=echo upsquared | sudo -S\n"
     ]
    }
   ],
   "source": [
    "%env PASSWORD = upsquared\n",
    "%env LAB_DIR = /home/upsquared/labs/smart-video-workshop\n",
    "%env INF_EXAMPLES = /opt/intel/computer_vision_sdk/deployment_tools/inference_engine/samples/\n",
    "\n",
    "%env SUDO = echo upsquared | sudo -S "
   ]
  },
  {
   "cell_type": "code",
   "execution_count": 2,
   "metadata": {},
   "outputs": [
    {
     "name": "stdout",
     "output_type": "stream",
     "text": [
      "upsquared\n",
      "/home/upsquared/labs/smart-video-workshop\n",
      "/opt/intel/computer_vision_sdk/deployment_tools/inference_engine/samples/\n"
     ]
    }
   ],
   "source": [
    "! echo $PASSWORD\n",
    "! echo $LAB_DIR\n",
    "! echo $INF_EXAMPLES"
   ]
  },
  {
   "cell_type": "markdown",
   "metadata": {},
   "source": [
    "\n",
    "### 1. Hardware requirements\n",
    "The hardware requirements are mentioned in the System Requirement section of the [install guide](https://software.intel.com/en-us/articles/OpenVINO-Install-Linux)\n",
    "\n",
    "### 2. Operating System\n",
    "These labs have been validated on Ubuntu 16.04 OS. \n",
    "\n",
    "### 3. Software installation steps\n",
    "#### a). Install OpenVINO™ toolkit \n",
    "Use steps described in the [install guide](https://software.intel.com/en-us/articles/OpenVINO-Install-Linux)\n",
    "to install OpenVINO™ toolkit as well as MediaSDK and OpenCL* mentioned in the Post-Installation section of the guide. \n",
    "\n",
    "#### b). Install gflags and python libraries\n"
   ]
  },
  {
   "cell_type": "code",
   "execution_count": 3,
   "metadata": {},
   "outputs": [
    {
     "name": "stdout",
     "output_type": "stream",
     "text": [
      "Reading package lists... Done\n",
      "Building dependency tree       \n",
      "Reading state information... Done\n",
      "libgflags-dev is already the newest version (2.1.2-3).\n",
      "python3-pip is already the newest version (8.1.1-2ubuntu0.4).\n",
      "The following packages were automatically installed and are no longer required:\n",
      "  linux-headers-4.13.0-36 linux-headers-4.13.0-36-generic\n",
      "  linux-headers-4.13.0-39 linux-headers-4.13.0-39-generic\n",
      "  linux-image-4.13.0-36-generic linux-image-4.13.0-39-generic\n",
      "  linux-image-extra-4.13.0-36-generic linux-image-extra-4.13.0-39-generic\n",
      "  linux-signed-image-4.13.0-39-generic\n",
      "Use 'sudo apt autoremove' to remove them.\n",
      "0 upgraded, 0 newly installed, 0 to remove and 99 not upgraded.\n"
     ]
    }
   ],
   "source": [
    "! echo $PASSWORD | sudo -S apt install libgflags-dev python3-pip"
   ]
  },
  {
   "cell_type": "code",
   "execution_count": 4,
   "metadata": {},
   "outputs": [
    {
     "name": "stdout",
     "output_type": "stream",
     "text": [
      "[sudo] password for upsquared: \u001b[33mThe directory '/home/upsquared/.cache/pip/http' or its parent directory is not owned by the current user and the cache has been disabled. Please check the permissions and owner of that directory. If executing pip with sudo, you may want sudo's -H flag.\u001b[0m\n",
      "\u001b[33mThe directory '/home/upsquared/.cache/pip' or its parent directory is not owned by the current user and caching wheels has been disabled. check the permissions and owner of that directory. If executing pip with sudo, you may want sudo's -H flag.\u001b[0m\n",
      "Requirement already satisfied (use --upgrade to upgrade): networkx==1.11 in /usr/local/lib/python3.5/dist-packages (from -r /opt/intel/computer_vision_sdk/deployment_tools/model_optimizer/requirements_caffe.txt (line 1))\n",
      "Requirement already satisfied (use --upgrade to upgrade): numpy>=1.12.0 in /usr/local/lib/python3.5/dist-packages (from -r /opt/intel/computer_vision_sdk/deployment_tools/model_optimizer/requirements_caffe.txt (line 2))\n",
      "Requirement already satisfied (use --upgrade to upgrade): protobuf==3.5.1 in /usr/local/lib/python3.5/dist-packages (from -r /opt/intel/computer_vision_sdk/deployment_tools/model_optimizer/requirements_caffe.txt (line 3))\n",
      "Requirement already satisfied (use --upgrade to upgrade): decorator>=3.4.0 in /usr/local/lib/python3.5/dist-packages (from networkx==1.11->-r /opt/intel/computer_vision_sdk/deployment_tools/model_optimizer/requirements_caffe.txt (line 1))\n",
      "Requirement already satisfied (use --upgrade to upgrade): setuptools in /usr/lib/python3/dist-packages (from protobuf==3.5.1->-r /opt/intel/computer_vision_sdk/deployment_tools/model_optimizer/requirements_caffe.txt (line 3))\n",
      "Requirement already satisfied (use --upgrade to upgrade): six>=1.9 in /usr/lib/python3/dist-packages (from protobuf==3.5.1->-r /opt/intel/computer_vision_sdk/deployment_tools/model_optimizer/requirements_caffe.txt (line 3))\n",
      "\u001b[33mYou are using pip version 8.1.1, however version 10.0.1 is available.\n",
      "You should consider upgrading via the 'pip install --upgrade pip' command.\u001b[0m\n"
     ]
    }
   ],
   "source": [
    "! echo $PASSWORD | sudo -S pip3 install -r /opt/intel/computer_vision_sdk/deployment_tools/model_optimizer/requirements_caffe.txt"
   ]
  },
  {
   "cell_type": "markdown",
   "metadata": {},
   "source": [
    "#### c). Compile samples\n",
    "Compile in-built samples in OpenVINO™ toolkit "
   ]
  },
  {
   "cell_type": "code",
   "execution_count": 4,
   "metadata": {},
   "outputs": [
    {
     "name": "stdout",
     "output_type": "stream",
     "text": [
      "[sudo] password for upsquared: "
     ]
    }
   ],
   "source": [
    "! echo $PASSWORD | sudo -S mkdir -p $INF_EXAMPLES/build "
   ]
  },
  {
   "cell_type": "code",
   "execution_count": 13,
   "metadata": {},
   "outputs": [
    {
     "name": "stdout",
     "output_type": "stream",
     "text": [
      "upsquared | sudo -S ls /root/\n"
     ]
    }
   ],
   "source": [
    "! $SUDO ls /root/"
   ]
  },
  {
   "cell_type": "code",
   "execution_count": 3,
   "metadata": {},
   "outputs": [
    {
     "name": "stdout",
     "output_type": "stream",
     "text": [
      "[sudo] password for upsquared: -- Looking for inference engine configuration file at: /opt/intel/computer_vision_sdk_2018.1.265/deployment_tools/inference_engine/share\n",
      "-- /etc/*-release distrib: Ubuntu 16.04\n",
      "-- Host CPU features:\n",
      "--   3DNOW not supported\n",
      "--   3DNOWEXT not supported\n",
      "--   ABM not supported\n",
      "--   ADX not supported\n",
      "--   AES supported\n",
      "--   AVX not supported\n",
      "--   AVX2 not supported\n",
      "--   AVX512CD not supported\n",
      "--   AVX512F not supported\n",
      "--   AVX512ER not supported\n",
      "--   AVX512PF not supported\n",
      "--   BMI1 not supported\n",
      "--   BMI2 not supported\n",
      "--   CLFSH supported\n",
      "--   CMPXCHG16B supported\n",
      "--   CX8 supported\n",
      "--   ERMS supported\n",
      "--   F16C not supported\n",
      "--   FMA not supported\n",
      "--   FSGSBASE supported\n",
      "--   FXSR supported\n",
      "--   HLE not supported\n",
      "--   INVPCID not supported\n",
      "--   LAHF supported\n",
      "--   LZCNT not supported\n",
      "--   MMX supported\n",
      "--   MMXEXT not supported\n",
      "--   MONITOR not supported\n",
      "--   MOVBE supported\n",
      "--   MSR supported\n",
      "--   OSXSAVE supported\n",
      "--   PCLMULQDQ supported\n",
      "--   POPCNT supported\n",
      "--   PREFETCHWT1 not supported\n",
      "--   RDRAND supported\n",
      "--   RDSEED supported\n",
      "--   RDTSCP supported\n",
      "--   RTM not supported\n",
      "--   SEP supported\n",
      "--   SHA supported\n",
      "--   SSE supported\n",
      "--   SSE2 supported\n",
      "--   SSE3 supported\n",
      "--   SSE4.1 supported\n",
      "--   SSE4.2 supported\n",
      "--   SSE4a not supported\n",
      "--   SSSE3 supported\n",
      "--   SYSCALL supported\n",
      "--   TBM not supported\n",
      "--   XOP not supported\n",
      "--   XSAVE supported\n",
      "-- Found OpenCV: /opt/intel/computer_vision_sdk_2018.1.265/opencv (found version \"3.4.1\") found components:  opencv_imgcodecs opencv_imgproc opencv_features2d opencv_dnn opencv_videostab opencv_objdetect opencv_superres opencv_photo opencv_highgui opencv_shape opencv_core opencv_video opencv_videoio opencv_ml opencv_calib3d opencv_stitching opencv_flann opencv_pvl \n",
      "-- OPENCV is enabled\n",
      "-- OpenCV_INCLUDE_DIRS=/opt/intel/computer_vision_sdk_2018.1.265/opencv/include;/opt/intel/computer_vision_sdk_2018.1.265/opencv/include/opencv\n",
      "-- OpenCV_LIBS=opencv_core;opencv_imgproc;opencv_highgui;opencv_imgcodecs;opencv_imgcodecs;opencv_imgproc;opencv_features2d;opencv_dnn;opencv_videostab;opencv_objdetect;opencv_superres;opencv_photo;opencv_highgui;opencv_shape;opencv_core;opencv_video;opencv_videoio;opencv_ml;opencv_calib3d;opencv_stitching;opencv_flann;opencv_pvl;opencv_imgcodecs;opencv_imgproc;opencv_features2d;opencv_dnn;opencv_videostab;opencv_objdetect;opencv_superres;opencv_photo;opencv_highgui;opencv_shape;opencv_core;opencv_video;opencv_videoio;opencv_ml;opencv_calib3d;opencv_stitching;opencv_flann;opencv_pvl\n",
      "-- OPENCV is enabled\n",
      "-- OpenCV_INCLUDE_DIRS=/opt/intel/computer_vision_sdk_2018.1.265/opencv/include;/opt/intel/computer_vision_sdk_2018.1.265/opencv/include/opencv\n",
      "-- OpenCV_LIBS=opencv_core;opencv_imgproc;opencv_highgui;opencv_imgcodecs;opencv_imgcodecs;opencv_imgproc;opencv_features2d;opencv_dnn;opencv_videostab;opencv_objdetect;opencv_superres;opencv_photo;opencv_highgui;opencv_shape;opencv_core;opencv_video;opencv_videoio;opencv_ml;opencv_calib3d;opencv_stitching;opencv_flann;opencv_pvl;opencv_imgcodecs;opencv_imgproc;opencv_features2d;opencv_dnn;opencv_videostab;opencv_objdetect;opencv_superres;opencv_photo;opencv_highgui;opencv_shape;opencv_core;opencv_video;opencv_videoio;opencv_ml;opencv_calib3d;opencv_stitching;opencv_flann;opencv_pvl\n",
      "-- OPENCV is enabled\n",
      "-- OpenCV_INCLUDE_DIRS=/opt/intel/computer_vision_sdk_2018.1.265/opencv/include;/opt/intel/computer_vision_sdk_2018.1.265/opencv/include/opencv\n",
      "-- OpenCV_LIBS=opencv_core;opencv_imgproc;opencv_highgui;opencv_imgcodecs;opencv_imgcodecs;opencv_imgproc;opencv_features2d;opencv_dnn;opencv_videostab;opencv_objdetect;opencv_superres;opencv_photo;opencv_highgui;opencv_shape;opencv_core;opencv_video;opencv_videoio;opencv_ml;opencv_calib3d;opencv_stitching;opencv_flann;opencv_pvl;opencv_imgcodecs;opencv_imgproc;opencv_features2d;opencv_dnn;opencv_videostab;opencv_objdetect;opencv_superres;opencv_photo;opencv_highgui;opencv_shape;opencv_core;opencv_video;opencv_videoio;opencv_ml;opencv_calib3d;opencv_stitching;opencv_flann;opencv_pvl\n",
      "-- Found OpenCV: /opt/intel/computer_vision_sdk_2018.1.265/opencv (found suitable version \"3.4.1\", minimum required is \"3.3\") found components:  core imgproc highgui imgcodecs \n",
      "-- Configuring done\n",
      "-- Generating done\n",
      "-- Build files have been written to: /opt/intel/computer_vision_sdk_2018.1.265/deployment_tools/inference_engine/samples/build\n"
     ]
    }
   ],
   "source": [
    "! echo $PASSWORD | sudo -S cmake -E chdir $INF_EXAMPLES/build cmake –DCMAKE_BUILD_TYPE=Debug .."
   ]
  },
  {
   "cell_type": "markdown",
   "metadata": {},
   "source": [
    "## Workshop Agenda\n",
    "* **Intel Smart Video/Computer Vision Tools Overview**\n",
    "  - Slides - [Introduction to Intel Smart Video Tools](./presentations/01-Introduction-to-Intel-Smart-Video-Tools.pdf)\n",
    "\n",
    "* **Basic End to End Object Detection Example**\n",
    "  - Slides - [Basic End to End Object Detection Example](./presentations/02-Basic-End-to-End-Object-Detection-Example.pdf)\n",
    "  - Lab - [Basic End to End Object Detection Example](./object-detection/README.md)\n",
    "\n",
    "* **Hardware Heterogeneity**\n",
    "  - Lab - [Hardware Heterogeneity](./hardware-heterogeneity/README.md)\n",
    "\n",
    "* **HW Acceleration with Intel® Movidius™ Neural Compute Stick**\n",
    "  - Lab - [HW Acceleration with Intel® Movidius™ Neural Compute Stick](./HW-Acceleration-with-Movidious-NCS/README.md) \n",
    "  \n",
    "* **FPGA Inference Accelerator**\n",
    "  - Slides - [HW Acceleration with Intel® Movidius™ Neural Compute Stick](./presentations/04-HW-Acceleration-with-FPGA.pdf)\n",
    "\n",
    "* **Optimization Tools and Techniques** \n",
    "  - Slides - [Optimization Tools and Techniques](/presentations/04_05_Optimization_and_advanced_analytics.pdf)\n",
    "  - Lab - [Optimization Tools and Techniques](./optimization-tools-and-techniques/README.md)\n",
    "  \n",
    "* **Advanced Video Analytics**\n",
    "  - Lab - [Advanced Video Analytics](./advanced-video-analytics/README.md)\n"
   ]
  },
  {
   "cell_type": "code",
   "execution_count": 32,
   "metadata": {},
   "outputs": [
    {
     "data": {
      "text/html": [
       "\n",
       "<video width=\"320\" height=\"240\" controls>\n",
       "  <source src=\"./object-detection/cars.mp4\" type=\"video/mp4\">\n",
       "</video>\n"
      ],
      "text/plain": [
       "<IPython.core.display.HTML object>"
      ]
     },
     "execution_count": 32,
     "metadata": {},
     "output_type": "execute_result"
    }
   ],
   "source": [
    "from IPython.display import HTML\n",
    "\n",
    "HTML(\"\"\"\n",
    "<video width=\"320\" height=\"240\" controls>\n",
    "  <source src=\"./object-detection/cars.mp4\" type=\"video/mp4\">\n",
    "</video>\n",
    "\"\"\")"
   ]
  },
  {
   "cell_type": "code",
   "execution_count": 26,
   "metadata": {},
   "outputs": [],
   "source": [
    "def showanyVideo(baseDir=None,fname=None):\n",
    "    \"\"\"Function to display any video in Ipython or Jupyter Notebook given a directory in which the video exist and the video file name.\n",
    "    Args:\n",
    "        baseDir: Directory containing the video\n",
    "        fname: Filename of video.\n",
    "    \"\"\"\n",
    "    from IPython.display import HTML\n",
    "    import os\n",
    "    location = baseDir + fname\n",
    "    location = \"./object-detection/cars.mp4\"\n",
    "    if os.path.isfile(location):\n",
    "        ext = '.mp4'\n",
    "    else:\n",
    "        print(\"Error: Please check the path.\")\n",
    "    video_encoded = open(location, \"rb\").read().encode(\"base64\")\n",
    "    video_tag = '<video width=\"320\" height=\"240\" controls alt=\"test\" src=\"data:video/{0};base64,{1}\">'.format(ext, video_encoded)\n",
    "    return HTML(data=video_tag)"
   ]
  },
  {
   "cell_type": "code",
   "execution_count": 30,
   "metadata": {},
   "outputs": [
    {
     "data": {
      "text/html": [
       "<video width=\"320\" height=\"240\" controls>\n",
       "  <source src=\"/opt/intel/computer_vision_sdk_2018.1.265/openvx/samples/samples/camera_tampering/ctd_md.mp4\" type=\"video/mp4\">\n",
       "</video>"
      ],
      "text/plain": [
       "<IPython.core.display.HTML object>"
      ]
     },
     "metadata": {},
     "output_type": "display_data"
    }
   ],
   "source": [
    "%%HTML\n",
    "<video width=\"320\" height=\"240\" controls>\n",
    "  <source src=\"/opt/intel/computer_vision_sdk_2018.1.265/openvx/samples/samples/camera_tampering/ctd_md.mp4\" type=\"video/mp4\">\n",
    "</video>\n"
   ]
  },
  {
   "cell_type": "code",
   "execution_count": null,
   "metadata": {},
   "outputs": [],
   "source": []
  }
 ],
 "metadata": {
  "kernelspec": {
   "display_name": "Python 3",
   "language": "python",
   "name": "python3"
  },
  "language_info": {
   "codemirror_mode": {
    "name": "ipython",
    "version": 3
   },
   "file_extension": ".py",
   "mimetype": "text/x-python",
   "name": "python",
   "nbconvert_exporter": "python",
   "pygments_lexer": "ipython3",
   "version": "3.5.2"
  }
 },
 "nbformat": 4,
 "nbformat_minor": 2
}
